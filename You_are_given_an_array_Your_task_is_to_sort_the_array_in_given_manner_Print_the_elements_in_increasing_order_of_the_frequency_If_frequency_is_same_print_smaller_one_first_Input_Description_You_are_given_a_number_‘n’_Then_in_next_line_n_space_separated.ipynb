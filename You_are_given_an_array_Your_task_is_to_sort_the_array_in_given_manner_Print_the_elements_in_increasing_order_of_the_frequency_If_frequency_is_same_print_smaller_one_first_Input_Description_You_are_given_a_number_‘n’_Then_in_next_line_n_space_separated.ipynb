{
  "nbformat": 4,
  "nbformat_minor": 0,
  "metadata": {
    "colab": {
      "provenance": [],
      "authorship_tag": "ABX9TyPI7ZaNI1ZqvGx0oA2j/XMv",
      "include_colab_link": true
    },
    "kernelspec": {
      "name": "python3",
      "display_name": "Python 3"
    },
    "language_info": {
      "name": "python"
    }
  },
  "cells": [
    {
      "cell_type": "markdown",
      "metadata": {
        "id": "view-in-github",
        "colab_type": "text"
      },
      "source": [
        "<a href=\"https://colab.research.google.com/github/omkarmohite123/String_Problem-solve-using-Python/blob/main/You_are_given_an_array_Your_task_is_to_sort_the_array_in_given_manner_Print_the_elements_in_increasing_order_of_the_frequency_If_frequency_is_same_print_smaller_one_first_Input_Description_You_are_given_a_number_%E2%80%98n%E2%80%99_Then_in_next_line_n_space_separated.ipynb\" target=\"_parent\"><img src=\"https://colab.research.google.com/assets/colab-badge.svg\" alt=\"Open In Colab\"/></a>"
      ]
    },
    {
      "cell_type": "code",
      "source": [
        "#11\n",
        "a=int(input())\n",
        "b=list(map(int,input().split()))\n",
        "c=[]\n",
        "for i in range(len(b)):\n",
        "    if b.count(b[i])>=1 and b[i] not in c :\n",
        "        c.append((b[i]))\n",
        "d=c[::-1]\n",
        "print(*d)"
      ],
      "metadata": {
        "colab": {
          "base_uri": "https://localhost:8080/"
        },
        "id": "CSlpNmmSGAe0",
        "outputId": "0733666d-2ebb-4292-8878-ade1f3b25a24"
      },
      "execution_count": 5,
      "outputs": [
        {
          "output_type": "stream",
          "name": "stdout",
          "text": [
            "4\n",
            "1 1 3 2\n",
            "2 3 1\n"
          ]
        }
      ]
    }
  ]
}