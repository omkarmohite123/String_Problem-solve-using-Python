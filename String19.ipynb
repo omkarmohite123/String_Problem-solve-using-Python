{
  "nbformat": 4,
  "nbformat_minor": 0,
  "metadata": {
    "colab": {
      "provenance": [],
      "authorship_tag": "ABX9TyPuHcV+N4qQXOFqZW2/6v27",
      "include_colab_link": true
    },
    "kernelspec": {
      "name": "python3",
      "display_name": "Python 3"
    },
    "language_info": {
      "name": "python"
    }
  },
  "cells": [
    {
      "cell_type": "markdown",
      "metadata": {
        "id": "view-in-github",
        "colab_type": "text"
      },
      "source": [
        "<a href=\"https://colab.research.google.com/github/omkarmohite123/String_Problem-solve-using-Python/blob/main/String19.ipynb\" target=\"_parent\"><img src=\"https://colab.research.google.com/assets/colab-badge.svg\" alt=\"Open In Colab\"/></a>"
      ]
    },
    {
      "cell_type": "code",
      "source": [
        "\"\"\"\n",
        "Find the word having maximum length in a given sentence and print it. If two words are of same length return the first occuring word of max-length.\n",
        "Input Size : |s| <= 100000\n",
        "Sample Testcase :\n",
        "INPUT\n",
        "guvi geek\n",
        "OUTPUT\n",
        "guvi\n",
        "\"\"\""
      ],
      "metadata": {
        "id": "6C4VxpP7v0OW"
      },
      "execution_count": null,
      "outputs": []
    },
    {
      "cell_type": "code",
      "source": [
        "k=list(map(str,input().split()))\n",
        "m={value: len(value) for value in k}\n",
        "j=sorted(m.values(),reverse=True)\n",
        "s={}\n",
        "for i in j:\n",
        "   for key,value in m.items():\n",
        "     if value==i:\n",
        "       s[key]=value\n",
        "d=[]\n",
        "for i,k in s.items():\n",
        "  if j[0]==k:\n",
        "     d.append(i)\n",
        "print(d[0])"
      ],
      "metadata": {
        "colab": {
          "base_uri": "https://localhost:8080/"
        },
        "id": "6_YS61L_v0RS",
        "outputId": "c34ba55c-c036-433a-bfb5-0e0ff0b29466"
      },
      "execution_count": 58,
      "outputs": [
        {
          "output_type": "stream",
          "name": "stdout",
          "text": [
            "guvi geek\n",
            "guvi\n"
          ]
        }
      ]
    }
  ]
}