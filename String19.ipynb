{
  "nbformat": 4,
  "nbformat_minor": 0,
  "metadata": {
    "colab": {
      "provenance": [],
      "authorship_tag": "ABX9TyP4jdclmSe3bjBjRrslxSxo",
      "include_colab_link": true
    },
    "kernelspec": {
      "name": "python3",
      "display_name": "Python 3"
    },
    "language_info": {
      "name": "python"
    }
  },
  "cells": [
    {
      "cell_type": "markdown",
      "metadata": {
        "id": "view-in-github",
        "colab_type": "text"
      },
      "source": [
        "<a href=\"https://colab.research.google.com/github/omkarmohite123/String_Problem-solve-using-Python/blob/main/String19.ipynb\" target=\"_parent\"><img src=\"https://colab.research.google.com/assets/colab-badge.svg\" alt=\"Open In Colab\"/></a>"
      ]
    },
    {
      "cell_type": "code",
      "source": [
        "\"\"\"\n",
        "Given a string S. Find the maximum length of substring alternating characters of vowel and consonants.\n",
        "Input Size : |S| <= 1000000\n",
        "Sample Testcase :\n",
        "INPUT\n",
        "bebibo\n",
        "OUTPUT\n",
        "6\n",
        "\"\"\""
      ],
      "metadata": {
        "id": "4qKABrm65da5"
      },
      "execution_count": null,
      "outputs": []
    },
    {
      "cell_type": "code",
      "source": [
        "a=input()\n",
        "count=0\n",
        "max=0\n",
        "for i in range(0,len(a)):\n",
        "  for j in range(i+1,len(a)):\n",
        "    if a[i] not in \"aeiou\" and a[j] in \"aeiou\":\n",
        "              count+=1\n",
        "    else:\n",
        "      break\n",
        "  if count>max:\n",
        "    max=count\n",
        "print(max*2)  "
      ],
      "metadata": {
        "colab": {
          "base_uri": "https://localhost:8080/"
        },
        "id": "Rwio_Y_K5def",
        "outputId": "a734bb83-e241-4a24-881d-f18b83169cc5"
      },
      "execution_count": 61,
      "outputs": [
        {
          "output_type": "stream",
          "name": "stdout",
          "text": [
            "bebibo\n",
            "6\n"
          ]
        }
      ]
    }
  ]
}