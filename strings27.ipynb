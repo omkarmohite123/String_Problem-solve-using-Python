{
  "nbformat": 4,
  "nbformat_minor": 0,
  "metadata": {
    "colab": {
      "provenance": [],
      "authorship_tag": "ABX9TyPjRr/FqqhMTY2Bf2SvRfp/",
      "include_colab_link": true
    },
    "kernelspec": {
      "name": "python3",
      "display_name": "Python 3"
    },
    "language_info": {
      "name": "python"
    }
  },
  "cells": [
    {
      "cell_type": "markdown",
      "metadata": {
        "id": "view-in-github",
        "colab_type": "text"
      },
      "source": [
        "<a href=\"https://colab.research.google.com/github/omkarmohite123/String_Problem-solve-using-Python/blob/main/strings27.ipynb\" target=\"_parent\"><img src=\"https://colab.research.google.com/assets/colab-badge.svg\" alt=\"Open In Colab\"/></a>"
      ]
    },
    {
      "cell_type": "code",
      "source": [
        "\"\"\"\n",
        "Given a number N followed by an array of N integers, replace every element with the greatest element on the right side(to that element) in the array. Replace last element with 0 as there no element on the right side of it.\n",
        "eg. if the array is {6, 7, 4, 3, 5, 2}, output {7, 5, 5, 5, 2, 0}.\n",
        "Input Size : N <= 100000\n",
        "Sample Testcase :\n",
        "INPUT\n",
        "6\n",
        "6 7 4 3 5 2\n",
        "OUTPUT\n",
        "7 5 5 5 2 0\n",
        "\n",
        "\n",
        "\"\"\""
      ],
      "metadata": {
        "id": "EEgQcZNhNHKR"
      },
      "execution_count": null,
      "outputs": []
    },
    {
      "cell_type": "code",
      "source": [
        "def great(arr):\n",
        "  size=len(arr) #6\n",
        "  max=arr[size-1] #\n",
        "  arr[size-1]=0\n",
        "  for i in range(size-2,-1,-1):\n",
        "    temp = arr[i]\n",
        "    arr[i]=max\n",
        "    if max < temp:\n",
        "      max = temp\n",
        "  \n",
        "\n",
        "def prim(arr):\n",
        "   k=[]\n",
        "   for i in range(0,len(arr)):\n",
        "      k.append(arr[i])\n",
        "   return k\n",
        "\n",
        "m=int(input())\n",
        "arr=list(map(int,input().split()))\n",
        "great(arr)\n",
        "print(*prim(arr))   \n",
        "\n",
        "\n",
        "\n"
      ],
      "metadata": {
        "colab": {
          "base_uri": "https://localhost:8080/"
        },
        "id": "-sTL8QguLRWi",
        "outputId": "35e70807-3aea-491a-ae76-09db0d399234"
      },
      "execution_count": 18,
      "outputs": [
        {
          "output_type": "stream",
          "name": "stdout",
          "text": [
            "6\n",
            "6 7 4 3 5 2\n",
            "7 5 5 5 2 0\n"
          ]
        }
      ]
    }
  ]
}