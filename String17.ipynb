{
  "nbformat": 4,
  "nbformat_minor": 0,
  "metadata": {
    "colab": {
      "provenance": [],
      "authorship_tag": "ABX9TyPIOmdtZyNsAqT1PDRA5+Oo",
      "include_colab_link": true
    },
    "kernelspec": {
      "name": "python3",
      "display_name": "Python 3"
    },
    "language_info": {
      "name": "python"
    }
  },
  "cells": [
    {
      "cell_type": "markdown",
      "metadata": {
        "id": "view-in-github",
        "colab_type": "text"
      },
      "source": [
        "<a href=\"https://colab.research.google.com/github/omkarmohite123/String_Problem-solve-using-Python/blob/main/String17.ipynb\" target=\"_parent\"><img src=\"https://colab.research.google.com/assets/colab-badge.svg\" alt=\"Open In Colab\"/></a>"
      ]
    },
    {
      "cell_type": "code",
      "source": [
        "\"\"\"\n",
        "A number is given as input(as string). Find the maximum length of substring alternating digits of odd and even.\n",
        "Input Size : N <= 10000000000\n",
        "Sample Testcase :\n",
        "INPUT\n",
        "4123\n",
        "OUTPUT\n",
        "4\n",
        "\"\"\""
      ],
      "metadata": {
        "id": "wmg9k4d3l8Ud"
      },
      "execution_count": null,
      "outputs": []
    },
    {
      "cell_type": "code",
      "source": [
        "def max(a):\n",
        "  max_len=0\n",
        "  ans=\"\"\n",
        "  for i in range(len(a)):\n",
        "    temp=a[i]\n",
        "    for j in range(i+1,len(a)):\n",
        "      if int(a[j])%2!=int(a[j-1])%2:\n",
        "        temp += a[j]\n",
        "      else:\n",
        "        break\n",
        "    if len(temp)>max_len:\n",
        "      max_len = len(temp)\n",
        "      ans=temp\n",
        "  return ans\n",
        "a=input()\n",
        "k=max(a)\n",
        "print(len(k))\n",
        "\n",
        "      "
      ],
      "metadata": {
        "colab": {
          "base_uri": "https://localhost:8080/"
        },
        "id": "Amy3E0wGmi6T",
        "outputId": "f0598ab7-8899-4bae-f65d-fda5d11e52ca"
      },
      "execution_count": 14,
      "outputs": [
        {
          "output_type": "stream",
          "name": "stdout",
          "text": [
            "4123\n",
            "4\n"
          ]
        }
      ]
    }
  ]
}