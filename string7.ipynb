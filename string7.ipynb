{
  "nbformat": 4,
  "nbformat_minor": 0,
  "metadata": {
    "colab": {
      "provenance": [],
      "authorship_tag": "ABX9TyNn3aw0dCHpJQKsp/hag73N",
      "include_colab_link": true
    },
    "kernelspec": {
      "name": "python3",
      "display_name": "Python 3"
    },
    "language_info": {
      "name": "python"
    }
  },
  "cells": [
    {
      "cell_type": "markdown",
      "metadata": {
        "id": "view-in-github",
        "colab_type": "text"
      },
      "source": [
        "<a href=\"https://colab.research.google.com/github/omkarmohite123/String_Problem-solve-using-Python/blob/main/string7.ipynb\" target=\"_parent\"><img src=\"https://colab.research.google.com/assets/colab-badge.svg\" alt=\"Open In Colab\"/></a>"
      ]
    },
    {
      "cell_type": "code",
      "source": [
        "\"\"\"\n",
        "Given a string, find the length of the longest substring without repeating characters.\n",
        "Input Size : |S|<=1000\n",
        "Example:\n",
        "INPUT\n",
        "abcabcccdd\n",
        "OUTPUT\n",
        "3\n",
        "\n",
        "\"\"\""
      ],
      "metadata": {
        "id": "hgabyMM75bgB"
      },
      "execution_count": null,
      "outputs": []
    },
    {
      "cell_type": "code",
      "source": [
        "\n",
        "def areDistinct(str, i, j):\n",
        "\tvisited = [0] * (26)\n",
        "\n",
        "\tfor k in range(i, j + 1):\n",
        "\t\tif (visited[ord(str[k]) -\n",
        "\t\t\t\tord('a')] == True):\n",
        "\t\t\treturn False\n",
        "\t\t\t\n",
        "\t\tvisited[ord(str[k]) -\n",
        "\t\t\t\tord('a')] = True\n",
        "\n",
        "\treturn True\n",
        "\n",
        "\n",
        "def longestUniqueSubsttr(str):\n",
        "\t\n",
        "\tn = len(str)\n",
        "\tres = 0\n",
        "\t\n",
        "\tfor i in range(n):\n",
        "\t\tfor j in range(i, n):\n",
        "\t\t\tif (areDistinct(str, i, j)):\n",
        "\t\t\t\tres = max(res, j - i + 1)\n",
        "\t\t\t\t\n",
        "\treturn res\n",
        "\n",
        "if __name__ == '__main__':\n",
        "\t\n",
        "\tstr = input()\t\t\n",
        "\tlen=longestUniqueSubsttr(str)\n",
        "\tprint(len)\n"
      ],
      "metadata": {
        "colab": {
          "base_uri": "https://localhost:8080/"
        },
        "id": "o2TFqNXb5boV",
        "outputId": "45255511-7096-4a17-9895-419c5ee60e07"
      },
      "execution_count": 63,
      "outputs": [
        {
          "output_type": "stream",
          "name": "stdout",
          "text": [
            "abcabcccdd\n",
            "3\n"
          ]
        }
      ]
    }
  ]
}