{
  "nbformat": 4,
  "nbformat_minor": 0,
  "metadata": {
    "colab": {
      "provenance": [],
      "authorship_tag": "ABX9TyMFS3mGqNgGSUJjjsfaWj9b",
      "include_colab_link": true
    },
    "kernelspec": {
      "name": "python3",
      "display_name": "Python 3"
    },
    "language_info": {
      "name": "python"
    }
  },
  "cells": [
    {
      "cell_type": "markdown",
      "metadata": {
        "id": "view-in-github",
        "colab_type": "text"
      },
      "source": [
        "<a href=\"https://colab.research.google.com/github/omkarmohite123/String_Problem-solve-using-Python/blob/main/String.ipynb\" target=\"_parent\"><img src=\"https://colab.research.google.com/assets/colab-badge.svg\" alt=\"Open In Colab\"/></a>"
      ]
    },
    {
      "cell_type": "code",
      "source": [
        "\"\"\"\n",
        "Exercise 18: Replace each special symbol with # in the following string\n",
        "Given:\n",
        "\n",
        "str1 = '/*Jon is @developer & musician!!'\n",
        "Expected Output:\n",
        "\n",
        "##Jon is #developer # musician##\n",
        "\"\"\""
      ],
      "metadata": {
        "id": "Em_bZgkAYLpz"
      },
      "execution_count": null,
      "outputs": []
    },
    {
      "cell_type": "code",
      "source": [
        "import string\n",
        "\n",
        "str1 = '/*Jon is @developer & musician!!'\n",
        "print(\"The original string is : \", str1)\n",
        "\n",
        "# Replace punctuations with #\n",
        "replace_char = '#'\n",
        "\n",
        "# string.punctuation to get the list of all special symbols\n",
        "for char in string.punctuation:\n",
        "    str1 = str1.replace(char, replace_char)\n",
        "\n",
        "print(\"The strings after replacement : \", str1)"
      ],
      "metadata": {
        "colab": {
          "base_uri": "https://localhost:8080/"
        },
        "id": "TnOk2KlkYLs-",
        "outputId": "3b47e7ba-5704-4276-d8ae-775923cc0c40"
      },
      "execution_count": 1,
      "outputs": [
        {
          "output_type": "stream",
          "name": "stdout",
          "text": [
            "The original string is :  /*Jon is @developer & musician!!\n",
            "The strings after replacement :  ##Jon is #developer # musician##\n"
          ]
        }
      ]
    }
  ]
}