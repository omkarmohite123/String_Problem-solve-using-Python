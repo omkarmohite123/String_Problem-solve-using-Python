{
  "nbformat": 4,
  "nbformat_minor": 0,
  "metadata": {
    "colab": {
      "provenance": [],
      "authorship_tag": "ABX9TyOkk1ZvDdoLx13ZUNj+Z88v",
      "include_colab_link": true
    },
    "kernelspec": {
      "name": "python3",
      "display_name": "Python 3"
    },
    "language_info": {
      "name": "python"
    }
  },
  "cells": [
    {
      "cell_type": "markdown",
      "metadata": {
        "id": "view-in-github",
        "colab_type": "text"
      },
      "source": [
        "<a href=\"https://colab.research.google.com/github/omkarmohite123/String_Problem-solve-using-Python/blob/main/String9.ipynb\" target=\"_parent\"><img src=\"https://colab.research.google.com/assets/colab-badge.svg\" alt=\"Open In Colab\"/></a>"
      ]
    },
    {
      "cell_type": "code",
      "source": [
        "\"\"\"\n",
        "Given 2 strings check whether they differ exacly by one character.If yes then print 'yes' otherwise print 'no'\n",
        "Input Size : |s| <= 100000(complexity O(nlogn) or O(n))\n",
        "Sample Testcase :\n",
        "INPUT\n",
        "codekata codekate\n",
        "OUTPUT\n",
        "yes\n",
        "\"\"\""
      ],
      "metadata": {
        "id": "0UHbzdbrmZf1"
      },
      "execution_count": null,
      "outputs": []
    },
    {
      "cell_type": "code",
      "source": [
        "a,b=input().split()\n",
        "m=[]\n",
        "for i,j in zip(list(a),list(b)):\n",
        "  if i!=j:\n",
        "    m.append(j)\n",
        "if len(m)==1:\n",
        "  print(\"yes\")\n",
        "else:\n",
        "  print(\"no\")"
      ],
      "metadata": {
        "colab": {
          "base_uri": "https://localhost:8080/"
        },
        "id": "rQl8DlENmZlH",
        "outputId": "6ac0d605-8a2a-4da5-ee71-26116c76a631"
      },
      "execution_count": 1,
      "outputs": [
        {
          "output_type": "stream",
          "name": "stdout",
          "text": [
            "codekata codekate\n",
            "yes\n"
          ]
        }
      ]
    }
  ]
}