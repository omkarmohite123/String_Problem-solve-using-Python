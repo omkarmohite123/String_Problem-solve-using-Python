{
  "nbformat": 4,
  "nbformat_minor": 0,
  "metadata": {
    "colab": {
      "provenance": [],
      "authorship_tag": "ABX9TyMbJ6Shpgw3BfMBN9DVlxA0",
      "include_colab_link": true
    },
    "kernelspec": {
      "name": "python3",
      "display_name": "Python 3"
    },
    "language_info": {
      "name": "python"
    }
  },
  "cells": [
    {
      "cell_type": "markdown",
      "metadata": {
        "id": "view-in-github",
        "colab_type": "text"
      },
      "source": [
        "<a href=\"https://colab.research.google.com/github/omkarmohite123/String_Problem-solve-using-Python/blob/main/string1.ipynb\" target=\"_parent\"><img src=\"https://colab.research.google.com/assets/colab-badge.svg\" alt=\"Open In Colab\"/></a>"
      ]
    },
    {
      "cell_type": "code",
      "source": [
        "\"\"\"\n",
        "You are given a string ‘s’. You have to tell whether the string can be arranged in last to first order.A last to first order is order in which if word 1 ends in say(char ‘a’) then the other word must start in char ‘a’.\n",
        "\n",
        "Input Description:\n",
        "You are given a string ‘s’.\n",
        "\n",
        "Output Description:\n",
        "Print ‘1’ if string can be arranged in last to first sequence and\n",
        "\n",
        "Sample Input :\n",
        "Loan avail\n",
        "Sample Output :\n",
        "1\n",
        "\n",
        "\"\"\""
      ],
      "metadata": {
        "id": "7UTm8eHt2vEr"
      },
      "execution_count": null,
      "outputs": []
    },
    {
      "cell_type": "code",
      "source": [
        "\n",
        "a=list(map(str,input().split()))\n",
        "k=0\n",
        "for i in range(len(a)):\n",
        "  if a[i][-1]==a[i-1][0]:\n",
        "    k=1\n",
        "if k==0:\n",
        "  print(\"-1\")\n",
        "else:\n",
        "  print(\"1\")"
      ],
      "metadata": {
        "colab": {
          "base_uri": "https://localhost:8080/"
        },
        "id": "U7hBtJXX3K1G",
        "outputId": "cbe7dd9f-cf26-4520-e12e-f78f7f75c8bd"
      },
      "execution_count": 58,
      "outputs": [
        {
          "output_type": "stream",
          "name": "stdout",
          "text": [
            "Loan avail\n",
            "-1\n"
          ]
        }
      ]
    }
  ]
}