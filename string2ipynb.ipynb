{
  "nbformat": 4,
  "nbformat_minor": 0,
  "metadata": {
    "colab": {
      "provenance": [],
      "authorship_tag": "ABX9TyOhiZRWbJIoXcVSwEUTPbaU",
      "include_colab_link": true
    },
    "kernelspec": {
      "name": "python3",
      "display_name": "Python 3"
    },
    "language_info": {
      "name": "python"
    }
  },
  "cells": [
    {
      "cell_type": "markdown",
      "metadata": {
        "id": "view-in-github",
        "colab_type": "text"
      },
      "source": [
        "<a href=\"https://colab.research.google.com/github/omkarmohite123/String_Problem-solve-using-Python/blob/main/string2ipynb.ipynb\" target=\"_parent\"><img src=\"https://colab.research.google.com/assets/colab-badge.svg\" alt=\"Open In Colab\"/></a>"
      ]
    },
    {
      "cell_type": "code",
      "source": [
        "\"\"\"\n",
        "You are given a string ‘s’, find the minimum number of characters to be inserted to convert it to palindrome.\n",
        "\n",
        "Input Description:\n",
        "You are given a string ‘s’\n",
        "\n",
        "Output Description:\n",
        "Print 0 if no extra character is required else print the amount of characters required.\n",
        "\n",
        "Sample Input :\n",
        "abcd\n",
        "Sample Output :\n",
        "3\n",
        "\n",
        "\"\"\""
      ],
      "metadata": {
        "id": "jUNbM_yP3__d"
      },
      "execution_count": null,
      "outputs": []
    },
    {
      "cell_type": "code",
      "source": [
        "\n",
        "a=input()\n",
        "b=list(a)\n",
        "c=set(b)\n",
        "f=list(c)\n",
        "m=len(f)\n",
        "k=len(b)\n",
        "if m==k:\n",
        "  print(k-1)\n",
        "elif k<=3:\n",
        "  print(\"0\")\n",
        "else:\n",
        "  print(m-1)\n",
        "\n"
      ],
      "metadata": {
        "colab": {
          "base_uri": "https://localhost:8080/"
        },
        "id": "IKoCDY6_4AJf",
        "outputId": "65e68273-43d7-468e-9c6d-b576f9ba6fc3"
      },
      "execution_count": 59,
      "outputs": [
        {
          "output_type": "stream",
          "name": "stdout",
          "text": [
            "abcd\n",
            "3\n"
          ]
        }
      ]
    }
  ]
}