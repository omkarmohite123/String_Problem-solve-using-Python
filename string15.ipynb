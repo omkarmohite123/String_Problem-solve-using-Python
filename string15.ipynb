{
  "nbformat": 4,
  "nbformat_minor": 0,
  "metadata": {
    "colab": {
      "provenance": [],
      "authorship_tag": "ABX9TyPiFkqfec+aa+O+L7iKQoqy",
      "include_colab_link": true
    },
    "kernelspec": {
      "name": "python3",
      "display_name": "Python 3"
    },
    "language_info": {
      "name": "python"
    }
  },
  "cells": [
    {
      "cell_type": "markdown",
      "metadata": {
        "id": "view-in-github",
        "colab_type": "text"
      },
      "source": [
        "<a href=\"https://colab.research.google.com/github/omkarmohite123/String_Problem-solve-using-Python/blob/main/string15.ipynb\" target=\"_parent\"><img src=\"https://colab.research.google.com/assets/colab-badge.svg\" alt=\"Open In Colab\"/></a>"
      ]
    },
    {
      "cell_type": "code",
      "source": [
        "\"\"\"\n",
        "Given a string two strings S1 and S2, remove characters from the S1 which are present in the S2.If S1 becomes empty then print -1\n",
        "Input Size : N <= 100000\n",
        "Sample Testcase :\n",
        "INPUT\n",
        "GUVI GEEK\n",
        "OUTPUT\n",
        "UVI\n",
        "\"\"\""
      ],
      "metadata": {
        "id": "sGjOuR4IDR42"
      },
      "execution_count": null,
      "outputs": []
    },
    {
      "cell_type": "code",
      "source": [
        "\n",
        "a,b=list(map(str,input().split()))\n",
        "\n",
        "s=[]\n",
        "if len(a)==len(b):\n",
        "  for i,j in zip(a,b):\n",
        "     if i!=j:\n",
        "         s.append(i)\n",
        "  d=\"\".join(s)\n",
        "  if s==[]:\n",
        "    print(\"-1\")\n",
        "  else:\n",
        "    print(d)\n",
        "else:\n",
        "  print(\"\".join(a))\n",
        "     "
      ],
      "metadata": {
        "colab": {
          "base_uri": "https://localhost:8080/"
        },
        "id": "q-Iadzi5DSv2",
        "outputId": "e94a1eaf-4c77-4533-9177-5c4a6bc86ffa"
      },
      "execution_count": 2,
      "outputs": [
        {
          "output_type": "stream",
          "name": "stdout",
          "text": [
            "GUVI GEEK\n",
            "UVI\n"
          ]
        }
      ]
    }
  ]
}