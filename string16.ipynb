{
  "nbformat": 4,
  "nbformat_minor": 0,
  "metadata": {
    "colab": {
      "provenance": [],
      "authorship_tag": "ABX9TyMSGoMCwgeIz2svUTejSTjb",
      "include_colab_link": true
    },
    "kernelspec": {
      "name": "python3",
      "display_name": "Python 3"
    },
    "language_info": {
      "name": "python"
    }
  },
  "cells": [
    {
      "cell_type": "markdown",
      "metadata": {
        "id": "view-in-github",
        "colab_type": "text"
      },
      "source": [
        "<a href=\"https://colab.research.google.com/github/omkarmohite123/String_Problem-solve-using-Python/blob/main/string16.ipynb\" target=\"_parent\"><img src=\"https://colab.research.google.com/assets/colab-badge.svg\" alt=\"Open In Colab\"/></a>"
      ]
    },
    {
      "cell_type": "code",
      "source": [
        "\"\"\"\n",
        "Given a number N, print the first N Catalan numbers.\n",
        "Input Size : N <= 100\n",
        "Sample Testcase :\n",
        "INPUT\n",
        "1\n",
        "OUTPUT\n",
        "1 1\n",
        "\n",
        "\"\"\""
      ],
      "metadata": {
        "id": "IW0dyUJREDM0"
      },
      "execution_count": null,
      "outputs": []
    },
    {
      "cell_type": "code",
      "source": [
        "\n",
        "n=int(input())\n",
        "def ca(n):\n",
        "  if n<=1:\n",
        "    return 1\n",
        "  res=0\n",
        "  for i in range(n):\n",
        "    res+=ca(i)*ca(n-1-i)\n",
        "  return res\n",
        "k=[]\n",
        "for i in range(n+1):\n",
        "  k.append(ca(i))\n",
        "print(*k)"
      ],
      "metadata": {
        "colab": {
          "base_uri": "https://localhost:8080/"
        },
        "id": "FQP_fKhpD5dP",
        "outputId": "722e9401-0cd7-496b-fe31-3f131cee284d"
      },
      "execution_count": 1,
      "outputs": [
        {
          "output_type": "stream",
          "name": "stdout",
          "text": [
            "1\n",
            "1 1\n"
          ]
        }
      ]
    }
  ]
}