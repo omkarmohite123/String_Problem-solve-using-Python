{
  "nbformat": 4,
  "nbformat_minor": 0,
  "metadata": {
    "colab": {
      "provenance": [],
      "authorship_tag": "ABX9TyNUpPZL+v/qg3j+Fzaju0zu",
      "include_colab_link": true
    },
    "kernelspec": {
      "name": "python3",
      "display_name": "Python 3"
    },
    "language_info": {
      "name": "python"
    }
  },
  "cells": [
    {
      "cell_type": "markdown",
      "metadata": {
        "id": "view-in-github",
        "colab_type": "text"
      },
      "source": [
        "<a href=\"https://colab.research.google.com/github/omkarmohite123/String_Problem-solve-using-Python/blob/main/You_are_a_passport_issuer%2C_but_due_to_some_problems_in_the_system%2C_there_are_redundant_passport_numbers_Your_task_is_to_delete_all_the_duplicate_passport_numbers_You_are_given_a_list_of_passport_numbers_Input_Description_You_are_given_length_of_list_Sec.ipynb\" target=\"_parent\"><img src=\"https://colab.research.google.com/assets/colab-badge.svg\" alt=\"Open In Colab\"/></a>"
      ]
    },
    {
      "cell_type": "code",
      "source": [
        "#5\n",
        "a=int(input())\n",
        "b=list(map(str,input().split()))\n",
        "c = []\n",
        "for i in b:\n",
        "   if i not in c:\n",
        "     c.append(i)\n",
        "print(*c)\n"
      ],
      "metadata": {
        "colab": {
          "base_uri": "https://localhost:8080/"
        },
        "id": "eYSwFuHTDRJf",
        "outputId": "24f4c3a9-2b04-40ac-cef5-e3951cab23d8"
      },
      "execution_count": 5,
      "outputs": [
        {
          "output_type": "stream",
          "name": "stdout",
          "text": [
            "5\n",
            "A23 B56 B56 C79 D16\n",
            "A23 B56 C79 D16\n"
          ]
        }
      ]
    }
  ]
}