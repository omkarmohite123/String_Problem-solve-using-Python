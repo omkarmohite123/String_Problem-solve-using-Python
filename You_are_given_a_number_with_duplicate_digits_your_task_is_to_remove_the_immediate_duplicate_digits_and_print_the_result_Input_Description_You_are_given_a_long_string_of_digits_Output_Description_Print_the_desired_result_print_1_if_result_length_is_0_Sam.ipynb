{
  "nbformat": 4,
  "nbformat_minor": 0,
  "metadata": {
    "colab": {
      "provenance": [],
      "authorship_tag": "ABX9TyPh4ejLWvHbIH3QIpXCHZWY",
      "include_colab_link": true
    },
    "kernelspec": {
      "name": "python3",
      "display_name": "Python 3"
    },
    "language_info": {
      "name": "python"
    }
  },
  "cells": [
    {
      "cell_type": "markdown",
      "metadata": {
        "id": "view-in-github",
        "colab_type": "text"
      },
      "source": [
        "<a href=\"https://colab.research.google.com/github/omkarmohite123/String_Problem-solve-using-Python/blob/main/You_are_given_a_number_with_duplicate_digits_your_task_is_to_remove_the_immediate_duplicate_digits_and_print_the_result_Input_Description_You_are_given_a_long_string_of_digits_Output_Description_Print_the_desired_result_print_1_if_result_length_is_0_Sam.ipynb\" target=\"_parent\"><img src=\"https://colab.research.google.com/assets/colab-badge.svg\" alt=\"Open In Colab\"/></a>"
      ]
    },
    {
      "cell_type": "code",
      "source": [
        "#4\n",
        "a=list(input())\n",
        "b=a[1:]\n",
        "for i,j in zip (a,b):\n",
        "  if i==j :\n",
        "    a.remove(i) \n",
        "    a.remove(j)\n",
        "print(\"\".join(a))"
      ],
      "metadata": {
        "colab": {
          "base_uri": "https://localhost:8080/"
        },
        "id": "76KFv4eUC7zv",
        "outputId": "32e94905-263c-4b41-9a5f-49fd507b4937"
      },
      "execution_count": 4,
      "outputs": [
        {
          "output_type": "stream",
          "name": "stdout",
          "text": [
            "1331\n",
            "11\n"
          ]
        }
      ]
    }
  ]
}