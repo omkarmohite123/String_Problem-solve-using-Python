{
  "nbformat": 4,
  "nbformat_minor": 0,
  "metadata": {
    "colab": {
      "provenance": [],
      "authorship_tag": "ABX9TyObxsPuEIFgsXJP2Ne9HubW",
      "include_colab_link": true
    },
    "kernelspec": {
      "name": "python3",
      "display_name": "Python 3"
    },
    "language_info": {
      "name": "python"
    }
  },
  "cells": [
    {
      "cell_type": "markdown",
      "metadata": {
        "id": "view-in-github",
        "colab_type": "text"
      },
      "source": [
        "<a href=\"https://colab.research.google.com/github/omkarmohite123/String_Problem-solve-using-Python/blob/main/string4.ipynb\" target=\"_parent\"><img src=\"https://colab.research.google.com/assets/colab-badge.svg\" alt=\"Open In Colab\"/></a>"
      ]
    },
    {
      "cell_type": "code",
      "source": [
        "'''\n",
        "You are given a string s consisting of lowercase Latin letters. Character c is called k-dominant iff each substring of s with length at least k contains this character c. You have to find minimum k such that there exists at least one k-dominant character.\n",
        "Input Size : |S|<=10000\n",
        "INPUT\n",
        "abacaba\n",
        "OUTPUT\n",
        "2\n",
        "\n",
        "'''"
      ],
      "metadata": {
        "id": "vbEasMGa4sC4"
      },
      "execution_count": null,
      "outputs": []
    },
    {
      "cell_type": "code",
      "source": [
        "\n",
        "def check(s, K):\n",
        "\tfor ch in range(0, 26):\n",
        "\t\tc = chr(97 + ch) # Ascii value of 'a' => 97\n",
        "\t\tlast = -1\n",
        "\t\tfound = True\n",
        "\t\tfor i in range(0, K):\n",
        "\t\t\tif s[i] == c:\n",
        "\t\t\t\tlast = i\n",
        "\t\tif last == -1:\n",
        "\t\t\tcontinue\n",
        "\t\tfor i in range(K, len(s)):\n",
        "\t\t\tif s[i] == c:\n",
        "\t\t\t\tlast = i\n",
        "\t\t\tif last <= (i - K):\n",
        "\t\t\t\tfound = False\n",
        "\t\t\t\tbreak\n",
        "\t\tif found:\n",
        "\t\t\treturn 1\n",
        "\t\n",
        "\treturn 0\n",
        "def binarySearch(s):\n",
        "\n",
        "\tlow, high, ans = 1, len(s), None\n",
        "\t\n",
        "\twhile low <= high:\n",
        "\t\tmid = (high + low) >> 1\n",
        "\n",
        "\t\t# Check if answer is found\n",
        "\t\t# try to minimise it\n",
        "\t\tif check(s, mid):\n",
        "\t\t\tans, high = mid, mid - 1\n",
        "\t\t\n",
        "\t\telse:\n",
        "\t\t\tlow = mid + 1\n",
        "\t\n",
        "\treturn ans\n",
        "\n",
        "# Driver Code\n",
        "if __name__ == \"__main__\":\n",
        "\n",
        "\ts=input()\n",
        "\tprint(binarySearch(s))"
      ],
      "metadata": {
        "colab": {
          "base_uri": "https://localhost:8080/"
        },
        "id": "aVUlqwsW4sLz",
        "outputId": "90fbb7b7-7872-489b-abbc-5a55a801a22e"
      },
      "execution_count": 61,
      "outputs": [
        {
          "output_type": "stream",
          "name": "stdout",
          "text": [
            "abacaba\n",
            "2\n"
          ]
        }
      ]
    }
  ]
}