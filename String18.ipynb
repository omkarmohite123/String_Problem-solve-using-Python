{
  "nbformat": 4,
  "nbformat_minor": 0,
  "metadata": {
    "colab": {
      "provenance": [],
      "authorship_tag": "ABX9TyPPUkw1y1orII2KNQ88Awes",
      "include_colab_link": true
    },
    "kernelspec": {
      "name": "python3",
      "display_name": "Python 3"
    },
    "language_info": {
      "name": "python"
    }
  },
  "cells": [
    {
      "cell_type": "markdown",
      "metadata": {
        "id": "view-in-github",
        "colab_type": "text"
      },
      "source": [
        "<a href=\"https://colab.research.google.com/github/omkarmohite123/String_Problem-solve-using-Python/blob/main/String18.ipynb\" target=\"_parent\"><img src=\"https://colab.research.google.com/assets/colab-badge.svg\" alt=\"Open In Colab\"/></a>"
      ]
    },
    {
      "cell_type": "code",
      "source": [
        "\"\"\"\n",
        "Given a number N and an array of N strings, find the lexicographically smallest string.\n",
        "Input Size : N <= 1000\n",
        "Sample Testcase :\n",
        "INPUT\n",
        "3\n",
        "code\n",
        "learn\n",
        "practice\n",
        "OUTPUT\n",
        "code\n",
        "\"\"\""
      ],
      "metadata": {
        "id": "_DL8BAVVsAvV"
      },
      "execution_count": null,
      "outputs": []
    },
    {
      "cell_type": "code",
      "source": [
        "k=int(input())\n",
        "a=[input() for i in range(k)]\n",
        "for i in range(0,len(a)):\n",
        "  for j in range(i+1,len(a)):\n",
        "    if(a[i]+a[j]>a[j]+a[i]):\n",
        "      s=a[i]\n",
        "      a[i]=a[j]\n",
        "      a[j]=s\n",
        "print(a[0])\n"
      ],
      "metadata": {
        "colab": {
          "base_uri": "https://localhost:8080/"
        },
        "id": "fCYaAyIas-qu",
        "outputId": "6a9eb6e5-da73-420c-ba49-ca871d5e8ccd"
      },
      "execution_count": 27,
      "outputs": [
        {
          "output_type": "stream",
          "name": "stdout",
          "text": [
            "3\n",
            "code\n",
            "learn\n",
            "practice\n",
            "code\n"
          ]
        }
      ]
    }
  ]
}