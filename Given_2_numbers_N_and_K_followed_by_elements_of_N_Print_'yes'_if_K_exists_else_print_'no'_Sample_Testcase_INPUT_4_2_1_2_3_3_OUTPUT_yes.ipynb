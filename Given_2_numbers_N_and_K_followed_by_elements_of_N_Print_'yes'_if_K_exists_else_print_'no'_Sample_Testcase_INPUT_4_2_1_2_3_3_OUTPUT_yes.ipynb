{
  "nbformat": 4,
  "nbformat_minor": 0,
  "metadata": {
    "colab": {
      "provenance": [],
      "authorship_tag": "ABX9TyO/MP+TSqBQ6e6KnrCBNS3B",
      "include_colab_link": true
    },
    "kernelspec": {
      "name": "python3",
      "display_name": "Python 3"
    },
    "language_info": {
      "name": "python"
    }
  },
  "cells": [
    {
      "cell_type": "markdown",
      "metadata": {
        "id": "view-in-github",
        "colab_type": "text"
      },
      "source": [
        "<a href=\"https://colab.research.google.com/github/omkarmohite123/String_Problem-solve-using-Python/blob/main/Given_2_numbers_N_and_K_followed_by_elements_of_N_Print_'yes'_if_K_exists_else_print_'no'_Sample_Testcase_INPUT_4_2_1_2_3_3_OUTPUT_yes.ipynb\" target=\"_parent\"><img src=\"https://colab.research.google.com/assets/colab-badge.svg\" alt=\"Open In Colab\"/></a>"
      ]
    },
    {
      "cell_type": "code",
      "source": [
        "a,b = map(int,input().split())\n",
        "arr = list(map(int,input().split()))\n",
        "if b in arr:\n",
        "    print(\"yes\")\n",
        "else:\n",
        "    print(\"no\")"
      ],
      "metadata": {
        "colab": {
          "base_uri": "https://localhost:8080/"
        },
        "id": "QJIzr42uEgO2",
        "outputId": "2c032083-8da2-4173-a87d-26878a763b26"
      },
      "execution_count": 3,
      "outputs": [
        {
          "output_type": "stream",
          "name": "stdout",
          "text": [
            "4 2\n",
            "1 2 3 3\n",
            "yes\n"
          ]
        }
      ]
    }
  ]
}