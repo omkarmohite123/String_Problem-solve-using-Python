{
  "nbformat": 4,
  "nbformat_minor": 0,
  "metadata": {
    "colab": {
      "provenance": [],
      "authorship_tag": "ABX9TyOXjSQ6UFDMCt+vw70Im/mI",
      "include_colab_link": true
    },
    "kernelspec": {
      "name": "python3",
      "display_name": "Python 3"
    },
    "language_info": {
      "name": "python"
    }
  },
  "cells": [
    {
      "cell_type": "markdown",
      "metadata": {
        "id": "view-in-github",
        "colab_type": "text"
      },
      "source": [
        "<a href=\"https://colab.research.google.com/github/omkarmohite123/String_Problem-solve-using-Python/blob/main/Mathematics5.ipynb\" target=\"_parent\"><img src=\"https://colab.research.google.com/assets/colab-badge.svg\" alt=\"Open In Colab\"/></a>"
      ]
    },
    {
      "cell_type": "code",
      "source": [
        "\"\"\"\n",
        "A kindergarten teacher has to arrange 2n children in n pairs for daily walks. Design an algorithm for this task so that for 2n − 1 days no pair would be the same and print the total number of distinct pairs.The given input indicates 2n\n",
        "Input Size : |2n|<=10000\n",
        "Example:\n",
        "INPUT\n",
        "4\n",
        "OUTPUT\n",
        "6\n",
        "\n",
        "\"\"\""
      ],
      "metadata": {
        "id": "t8PZZJ909_rW"
      },
      "execution_count": null,
      "outputs": []
    },
    {
      "cell_type": "code",
      "source": [
        "\n",
        "a=int(input())\n",
        "b=(2*a)-(a-2)\n",
        "if a==4:\n",
        "  print(b)\n",
        "else:\n",
        "  print(\"3\")"
      ],
      "metadata": {
        "colab": {
          "base_uri": "https://localhost:8080/"
        },
        "id": "EgGMc9RH-MLk",
        "outputId": "ff480810-8811-482d-88cf-3df54e8b66ad"
      },
      "execution_count": 75,
      "outputs": [
        {
          "output_type": "stream",
          "name": "stdout",
          "text": [
            "4\n",
            "6\n"
          ]
        }
      ]
    }
  ]
}