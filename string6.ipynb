{
  "nbformat": 4,
  "nbformat_minor": 0,
  "metadata": {
    "colab": {
      "provenance": [],
      "authorship_tag": "ABX9TyPXH6NQmW1du9Ud1/BrzK0j",
      "include_colab_link": true
    },
    "kernelspec": {
      "name": "python3",
      "display_name": "Python 3"
    },
    "language_info": {
      "name": "python"
    }
  },
  "cells": [
    {
      "cell_type": "markdown",
      "metadata": {
        "id": "view-in-github",
        "colab_type": "text"
      },
      "source": [
        "<a href=\"https://colab.research.google.com/github/omkarmohite123/String_Problem-solve-using-Python/blob/main/string6.ipynb\" target=\"_parent\"><img src=\"https://colab.research.google.com/assets/colab-badge.svg\" alt=\"Open In Colab\"/></a>"
      ]
    },
    {
      "cell_type": "code",
      "source": [
        "\"\"\"\n",
        "Given a string S, check whether the given string is an anagram of the string “dhoni”. Anagram of a given string is a permutation of the set of characters present in the string. For example for the string “baba” aabb and baab are anagrams while aaab and bacd are not.\n",
        "Input Size : |S|<=100000\n",
        "Example:\n",
        "INPUT\n",
        "inohd\n",
        "OUTPUT\n",
        "yes\n",
        "\"\"\""
      ],
      "metadata": {
        "id": "R0Do4SrK5yGn"
      },
      "execution_count": null,
      "outputs": []
    },
    {
      "cell_type": "code",
      "source": [
        "\n",
        "k=\"dhoni\"\n",
        "n=list(k)\n",
        "m=sorted(n,reverse=False)\n",
        "o=\"\".join(m)\n",
        "a=input()\n",
        "d=list(a)\n",
        "f=sorted(d,reverse=False)\n",
        "l=\"\".join(f)\n",
        "if o == l:\n",
        "  print(\"yes\")\n",
        "else:\n",
        "  print(\"no\")"
      ],
      "metadata": {
        "colab": {
          "base_uri": "https://localhost:8080/"
        },
        "id": "p4grToML6G5S",
        "outputId": "8d553c48-9898-49b1-8ec0-f74c209f70dc"
      },
      "execution_count": 64,
      "outputs": [
        {
          "output_type": "stream",
          "name": "stdout",
          "text": [
            "inohd\n",
            "yes\n"
          ]
        }
      ]
    }
  ]
}