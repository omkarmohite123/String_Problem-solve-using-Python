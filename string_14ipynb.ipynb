{
  "nbformat": 4,
  "nbformat_minor": 0,
  "metadata": {
    "colab": {
      "provenance": [],
      "authorship_tag": "ABX9TyNFoa6sBGC7Vj5Sd2VgLrqq",
      "include_colab_link": true
    },
    "kernelspec": {
      "name": "python3",
      "display_name": "Python 3"
    },
    "language_info": {
      "name": "python"
    }
  },
  "cells": [
    {
      "cell_type": "markdown",
      "metadata": {
        "id": "view-in-github",
        "colab_type": "text"
      },
      "source": [
        "<a href=\"https://colab.research.google.com/github/omkarmohite123/String_Problem-solve-using-Python/blob/main/string_14ipynb.ipynb\" target=\"_parent\"><img src=\"https://colab.research.google.com/assets/colab-badge.svg\" alt=\"Open In Colab\"/></a>"
      ]
    },
    {
      "cell_type": "code",
      "source": [
        "\"\"\"\n",
        "Given a input string S, reverse the given string by appending each character of the string with '-'.\n",
        "Input Size : |S| <= 100000\n",
        "Sample Testcase :\n",
        "INPUT\n",
        "codekata\n",
        "OUTPUT\n",
        "a-t-a-k-e-d-o-c\n",
        "\"\"\""
      ],
      "metadata": {
        "id": "UTIiFFfdwQhB"
      },
      "execution_count": null,
      "outputs": []
    },
    {
      "cell_type": "code",
      "source": [
        "\n",
        "a=input()\n",
        "c=a[-1]\n",
        "for i in range(len(a)-2,-1,-1):\n",
        "    c=c+\"-\"+a[i]\n",
        "\n",
        "print(c)\n"
      ],
      "metadata": {
        "colab": {
          "base_uri": "https://localhost:8080/"
        },
        "id": "9MN_aHnQCmQ3",
        "outputId": "d7c17cb5-7c51-4713-c725-472b775d112a"
      },
      "execution_count": 1,
      "outputs": [
        {
          "output_type": "stream",
          "name": "stdout",
          "text": [
            "codekata\n",
            "a-t-a-k-e-d-o-c\n"
          ]
        }
      ]
    }
  ]
}