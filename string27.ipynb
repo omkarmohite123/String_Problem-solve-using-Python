{
  "nbformat": 4,
  "nbformat_minor": 0,
  "metadata": {
    "colab": {
      "provenance": [],
      "authorship_tag": "ABX9TyMdcTtVv7AMyKBgt3K149Eh",
      "include_colab_link": true
    },
    "kernelspec": {
      "name": "python3",
      "display_name": "Python 3"
    },
    "language_info": {
      "name": "python"
    }
  },
  "cells": [
    {
      "cell_type": "markdown",
      "metadata": {
        "id": "view-in-github",
        "colab_type": "text"
      },
      "source": [
        "<a href=\"https://colab.research.google.com/github/omkarmohite123/String_Problem-solve-using-Python/blob/main/string27.ipynb\" target=\"_parent\"><img src=\"https://colab.research.google.com/assets/colab-badge.svg\" alt=\"Open In Colab\"/></a>"
      ]
    },
    {
      "cell_type": "code",
      "execution_count": null,
      "metadata": {
        "id": "OaM3wtv6bam4"
      },
      "outputs": [],
      "source": [
        "#Check the input is in Anagram or Not in Anagram\n",
        "1) race care\n",
        "2) knee keen"
      ]
    },
    {
      "cell_type": "code",
      "source": [
        "\n",
        "def check_anagram(a,b):\n",
        "  if len(a)!=len(b):\n",
        "    return False\n",
        "  f1={}\n",
        "  f2={}\n",
        "  for i in a:\n",
        "    if i in f1:\n",
        "      f1[i]+=1\n",
        "    else:\n",
        "      f1[i]=1\n",
        "\n",
        "  for i in b:\n",
        "    if i in f2:\n",
        "      f2[i]+=1\n",
        "    else:\n",
        "      f2[i]=1\n",
        "  \n",
        "  for key in f1:\n",
        "    if key not in f2 or f1[key]!=f2[key]:\n",
        "        return False\n",
        "  return True\n",
        "  \n",
        "a,b=map(str,input().split())\n",
        "\n",
        "\n",
        "if check_anagram(a,b)==True:\n",
        "  print(\"anagram\")\n",
        "else:\n",
        "  print(\"no\")"
      ],
      "metadata": {
        "colab": {
          "base_uri": "https://localhost:8080/"
        },
        "id": "7OOljLYQQ3Je",
        "outputId": "6cecee45-2a77-41fe-af77-90d2d03b2383"
      },
      "execution_count": 3,
      "outputs": [
        {
          "output_type": "stream",
          "name": "stdout",
          "text": [
            "race care\n",
            "anagram\n"
          ]
        }
      ]
    }
  ]
}