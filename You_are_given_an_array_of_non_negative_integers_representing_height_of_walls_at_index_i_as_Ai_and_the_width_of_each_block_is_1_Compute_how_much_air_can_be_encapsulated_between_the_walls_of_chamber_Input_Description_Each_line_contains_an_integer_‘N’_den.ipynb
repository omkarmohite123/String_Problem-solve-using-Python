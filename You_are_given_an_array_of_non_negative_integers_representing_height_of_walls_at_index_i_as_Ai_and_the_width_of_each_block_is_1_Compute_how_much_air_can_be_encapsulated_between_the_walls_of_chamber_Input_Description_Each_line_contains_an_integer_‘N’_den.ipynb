{
  "nbformat": 4,
  "nbformat_minor": 0,
  "metadata": {
    "colab": {
      "provenance": [],
      "authorship_tag": "ABX9TyOXnFDU/D78H57VoLfBsVMa",
      "include_colab_link": true
    },
    "kernelspec": {
      "name": "python3",
      "display_name": "Python 3"
    },
    "language_info": {
      "name": "python"
    }
  },
  "cells": [
    {
      "cell_type": "markdown",
      "metadata": {
        "id": "view-in-github",
        "colab_type": "text"
      },
      "source": [
        "<a href=\"https://colab.research.google.com/github/omkarmohite123/String_Problem-solve-using-Python/blob/main/You_are_given_an_array_of_non_negative_integers_representing_height_of_walls_at_index_i_as_Ai_and_the_width_of_each_block_is_1_Compute_how_much_air_can_be_encapsulated_between_the_walls_of_chamber_Input_Description_Each_line_contains_an_integer_%E2%80%98N%E2%80%99_den.ipynb\" target=\"_parent\"><img src=\"https://colab.research.google.com/assets/colab-badge.svg\" alt=\"Open In Colab\"/></a>"
      ]
    },
    {
      "cell_type": "code",
      "source": [
        "n =int(input())\n",
        "l = [int(x) for x in input().split()]\n",
        "ans = 0\n",
        "for i in range(1, len(l)-1):\n",
        "    if l[i] < l[i-1] and l[i] < l[i+1]:\n",
        "        ans += min(l[i+1], l[i-1]) - l[i]\n",
        "print(ans)\n",
        "\n",
        "\n"
      ],
      "metadata": {
        "colab": {
          "base_uri": "https://localhost:8080/"
        },
        "id": "qW5r9_SJCHFt",
        "outputId": "4e4d158b-8119-4224-80b1-b9307818c499"
      },
      "execution_count": null,
      "outputs": [
        {
          "output_type": "stream",
          "name": "stdout",
          "text": [
            "3\n",
            "7 4 9\n",
            "3\n"
          ]
        }
      ]
    },
    {
      "cell_type": "code",
      "source": [
        "#3\n",
        "def firstneg(arr,n,k):\n",
        "  s=[]\n",
        "  for i in range(0,(n-k+1)):\n",
        "    flag=False\n",
        "    for j in range(0,k):\n",
        "      if (arr[i+j]<0):\n",
        "          s.append(arr[i+j])\n",
        "          flag=True\n",
        "          break\n",
        "    if (not(flag)):\n",
        "      s.append(\"0\")\n",
        "  return s\n",
        "n=int(input())\n",
        "arr=list(map(int,input().split()))\n",
        "k=int(input())\n",
        "d=firstneg(arr,n,k)\n",
        "print(*d)"
      ],
      "metadata": {
        "id": "zomr6sZpCOiz",
        "colab": {
          "base_uri": "https://localhost:8080/"
        },
        "outputId": "9ac5e372-03fb-4608-d4dd-afb7e085189c"
      },
      "execution_count": 3,
      "outputs": [
        {
          "output_type": "stream",
          "name": "stdout",
          "text": [
            "7\n",
            "1 -2 -3 -4 5 6 -7\n",
            "3\n",
            "-2 -2 -3 -4 -7\n"
          ]
        }
      ]
    }
  ]
}