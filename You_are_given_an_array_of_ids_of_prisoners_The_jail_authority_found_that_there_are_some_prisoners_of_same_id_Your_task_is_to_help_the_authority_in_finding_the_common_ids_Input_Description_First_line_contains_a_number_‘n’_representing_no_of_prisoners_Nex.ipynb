{
  "nbformat": 4,
  "nbformat_minor": 0,
  "metadata": {
    "colab": {
      "provenance": [],
      "authorship_tag": "ABX9TyP4xPprheWYEJPqXjpRe5mt",
      "include_colab_link": true
    },
    "kernelspec": {
      "name": "python3",
      "display_name": "Python 3"
    },
    "language_info": {
      "name": "python"
    }
  },
  "cells": [
    {
      "cell_type": "markdown",
      "metadata": {
        "id": "view-in-github",
        "colab_type": "text"
      },
      "source": [
        "<a href=\"https://colab.research.google.com/github/omkarmohite123/String_Problem-solve-using-Python/blob/main/You_are_given_an_array_of_ids_of_prisoners_The_jail_authority_found_that_there_are_some_prisoners_of_same_id_Your_task_is_to_help_the_authority_in_finding_the_common_ids_Input_Description_First_line_contains_a_number_%E2%80%98n%E2%80%99_representing_no_of_prisoners_Nex.ipynb\" target=\"_parent\"><img src=\"https://colab.research.google.com/assets/colab-badge.svg\" alt=\"Open In Colab\"/></a>"
      ]
    },
    {
      "cell_type": "code",
      "source": [
        "#7\n",
        "a=input()\n",
        "b=list(map(int,input().split()))\n",
        "c=[]\n",
        "r=0\n",
        "for i in b:\n",
        "  if b.count(i)==2:\n",
        "    if i not in c:\n",
        "      c.append(i)\n",
        "if len(c)>=1:\n",
        "  print(*c)\n",
        "else:\n",
        "  print('-1')"
      ],
      "metadata": {
        "colab": {
          "base_uri": "https://localhost:8080/"
        },
        "id": "6i2rRhQVD0TU",
        "outputId": "c953992d-48c7-49f5-c109-13489ada3659"
      },
      "execution_count": 1,
      "outputs": [
        {
          "output_type": "stream",
          "name": "stdout",
          "text": [
            "7\n",
            "1 1 11 121 131 141 98\n",
            "1\n"
          ]
        }
      ]
    }
  ]
}