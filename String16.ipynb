{
  "nbformat": 4,
  "nbformat_minor": 0,
  "metadata": {
    "colab": {
      "provenance": [],
      "authorship_tag": "ABX9TyObn8PG5gyZIaPJCfZWlsvr",
      "include_colab_link": true
    },
    "kernelspec": {
      "name": "python3",
      "display_name": "Python 3"
    },
    "language_info": {
      "name": "python"
    }
  },
  "cells": [
    {
      "cell_type": "markdown",
      "metadata": {
        "id": "view-in-github",
        "colab_type": "text"
      },
      "source": [
        "<a href=\"https://colab.research.google.com/github/omkarmohite123/String_Problem-solve-using-Python/blob/main/String16.ipynb\" target=\"_parent\"><img src=\"https://colab.research.google.com/assets/colab-badge.svg\" alt=\"Open In Colab\"/></a>"
      ]
    },
    {
      "cell_type": "code",
      "source": [
        "\"\"\"\n",
        "Given 2 strings S1 and S2,work on the strings such that both string has the same number of characters.To adjust the length reduce number of exceeding characters from longer string.\n",
        "Sample Testcase :\n",
        "INPUT\n",
        "guvi geeks\n",
        "OUTPUT\n",
        "guvigeek\n",
        "\"\"\""
      ],
      "metadata": {
        "id": "7aS5CXy0hfG3"
      },
      "execution_count": null,
      "outputs": []
    },
    {
      "cell_type": "code",
      "source": [
        "a,b=list(map(str,input().split()))\n",
        "if len(a)<len(b):\n",
        "  b=b[:len(a)-len(b)]\n",
        "  c=a+b\n",
        "  \n",
        "else:\n",
        "  a=a[:len(b)-len(a)]\n",
        "  c=a+b\n",
        "print(c)"
      ],
      "metadata": {
        "colab": {
          "base_uri": "https://localhost:8080/"
        },
        "id": "dQYDAv9DlUYf",
        "outputId": "8a4b9336-2e1d-4db1-f052-0aa1335f31df"
      },
      "execution_count": 6,
      "outputs": [
        {
          "output_type": "stream",
          "name": "stdout",
          "text": [
            "guvi geeks\n",
            "guvigeek\n"
          ]
        }
      ]
    }
  ]
}