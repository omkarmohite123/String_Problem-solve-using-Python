{
  "nbformat": 4,
  "nbformat_minor": 0,
  "metadata": {
    "colab": {
      "provenance": [],
      "authorship_tag": "ABX9TyORP8LN+coQVy6OnknWZhuH",
      "include_colab_link": true
    },
    "kernelspec": {
      "name": "python3",
      "display_name": "Python 3"
    },
    "language_info": {
      "name": "python"
    }
  },
  "cells": [
    {
      "cell_type": "markdown",
      "metadata": {
        "id": "view-in-github",
        "colab_type": "text"
      },
      "source": [
        "<a href=\"https://colab.research.google.com/github/omkarmohite123/String_Problem-solve-using-Python/blob/main/String11.ipynb\" target=\"_parent\"><img src=\"https://colab.research.google.com/assets/colab-badge.svg\" alt=\"Open In Colab\"/></a>"
      ]
    },
    {
      "cell_type": "code",
      "source": [
        "\"\"\"\n",
        "Given a string, print the run-length encoded output.\n",
        "Input Size : N <= 100000\n",
        "Sample Testcase :\n",
        "INPUT\n",
        "aaab\n",
        "OUTPUT\n",
        "a3b1\n",
        "\"\"\""
      ],
      "metadata": {
        "id": "pMiiPEssfr7I"
      },
      "execution_count": null,
      "outputs": []
    },
    {
      "cell_type": "code",
      "source": [
        "\n",
        "def rnl(a):\n",
        "  comp=[]\n",
        "  count=1\n",
        "  char=a[0]\n",
        "  for i in range(1,len(a)):\n",
        "    if a[i]==char:\n",
        "      count=count+1\n",
        "    else:\n",
        "      comp.append([char,count])\n",
        "      char=a[i]\n",
        "      count=1\n",
        "  comp.append([char,count])\n",
        "  return comp\n",
        "a=input()\n",
        "b=rnl(a)\n",
        "comp_a=\"\"\n",
        "for i in range(0,len(b)):\n",
        "  for j in b[i]:\n",
        "    comp_a+=str(j)\n",
        "print(comp_a)"
      ],
      "metadata": {
        "colab": {
          "base_uri": "https://localhost:8080/"
        },
        "id": "o4wmalBGfsBW",
        "outputId": "8829a4a6-c374-4157-d80c-52e87bd86a78"
      },
      "execution_count": 2,
      "outputs": [
        {
          "output_type": "stream",
          "name": "stdout",
          "text": [
            "aaab\n",
            "a3b1\n"
          ]
        }
      ]
    }
  ]
}