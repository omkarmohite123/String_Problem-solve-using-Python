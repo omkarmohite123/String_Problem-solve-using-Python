{
  "nbformat": 4,
  "nbformat_minor": 0,
  "metadata": {
    "colab": {
      "provenance": [],
      "authorship_tag": "ABX9TyNBbwrvHcXPtZD42w+Eu8bD",
      "include_colab_link": true
    },
    "kernelspec": {
      "name": "python3",
      "display_name": "Python 3"
    },
    "language_info": {
      "name": "python"
    }
  },
  "cells": [
    {
      "cell_type": "markdown",
      "metadata": {
        "id": "view-in-github",
        "colab_type": "text"
      },
      "source": [
        "<a href=\"https://colab.research.google.com/github/omkarmohite123/String_Problem-solve-using-Python/blob/main/You_are_given_with_two_arrays_Your_task_is_to_merge_the_array_such_that_first_array_is_in_ascending_order_and_second_one_in_descending_order_Input_Description_First_line_contains_two_integer_%E2%80%98n%E2%80%99_and_%E2%80%98m%E2%80%99_%E2%80%98n%E2%80%99_denotes_length_of_array_1_and_%E2%80%98m%E2%80%99_of_array_2_Ne.ipynb\" target=\"_parent\"><img src=\"https://colab.research.google.com/assets/colab-badge.svg\" alt=\"Open In Colab\"/></a>"
      ]
    },
    {
      "cell_type": "code",
      "source": [
        "#8\n",
        "n,m=list(map(int,input().split()))\n",
        "a=list(map(int,input().split()))\n",
        "b=list(map(int,input().split()))\n",
        "a.sort()\n",
        "b.sort(reverse=True)\n",
        "c=a+b\n",
        "print(*c)\n"
      ],
      "metadata": {
        "colab": {
          "base_uri": "https://localhost:8080/"
        },
        "id": "xlfcyrueENOY",
        "outputId": "6ed37c80-a6d7-4638-a0ef-52a8d08a0451"
      },
      "execution_count": 2,
      "outputs": [
        {
          "output_type": "stream",
          "name": "stdout",
          "text": [
            "3 3\n",
            "23 15 16\n",
            "357 65 10\n",
            "15 16 23 357 65 10\n"
          ]
        }
      ]
    }
  ]
}