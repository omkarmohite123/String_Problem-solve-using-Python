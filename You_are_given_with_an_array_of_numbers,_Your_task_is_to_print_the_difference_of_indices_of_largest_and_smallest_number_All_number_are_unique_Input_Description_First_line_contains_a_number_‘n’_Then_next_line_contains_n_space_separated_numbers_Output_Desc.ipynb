{
  "nbformat": 4,
  "nbformat_minor": 0,
  "metadata": {
    "colab": {
      "provenance": [],
      "authorship_tag": "ABX9TyMUZifB7xUWsYyMoBnTRS4Y",
      "include_colab_link": true
    },
    "kernelspec": {
      "name": "python3",
      "display_name": "Python 3"
    },
    "language_info": {
      "name": "python"
    }
  },
  "cells": [
    {
      "cell_type": "markdown",
      "metadata": {
        "id": "view-in-github",
        "colab_type": "text"
      },
      "source": [
        "<a href=\"https://colab.research.google.com/github/omkarmohite123/String_Problem-solve-using-Python/blob/main/You_are_given_with_an_array_of_numbers%2C_Your_task_is_to_print_the_difference_of_indices_of_largest_and_smallest_number_All_number_are_unique_Input_Description_First_line_contains_a_number_%E2%80%98n%E2%80%99_Then_next_line_contains_n_space_separated_numbers_Output_Desc.ipynb\" target=\"_parent\"><img src=\"https://colab.research.google.com/assets/colab-badge.svg\" alt=\"Open In Colab\"/></a>"
      ]
    },
    {
      "cell_type": "code",
      "source": [
        "#12\n",
        "a=int(input())\n",
        "b=list(map(int,input().split()))\n",
        "print(b.index(max(b))-b.index(min(b)))"
      ],
      "metadata": {
        "colab": {
          "base_uri": "https://localhost:8080/"
        },
        "id": "3lXYF5jvGQXJ",
        "outputId": "903b6606-f519-47c5-d02e-8fbda6789783"
      },
      "execution_count": 6,
      "outputs": [
        {
          "output_type": "stream",
          "name": "stdout",
          "text": [
            "5\n",
            "1 6 4 0 3\n",
            "-2\n"
          ]
        }
      ]
    }
  ]
}