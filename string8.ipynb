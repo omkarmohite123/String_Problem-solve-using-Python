{
  "nbformat": 4,
  "nbformat_minor": 0,
  "metadata": {
    "colab": {
      "provenance": [],
      "authorship_tag": "ABX9TyMYwp5hJlpG4+ar1rCAsnwA",
      "include_colab_link": true
    },
    "kernelspec": {
      "name": "python3",
      "display_name": "Python 3"
    },
    "language_info": {
      "name": "python"
    }
  },
  "cells": [
    {
      "cell_type": "markdown",
      "metadata": {
        "id": "view-in-github",
        "colab_type": "text"
      },
      "source": [
        "<a href=\"https://colab.research.google.com/github/omkarmohite123/String_Problem-solve-using-Python/blob/main/string8.ipynb\" target=\"_parent\"><img src=\"https://colab.research.google.com/assets/colab-badge.svg\" alt=\"Open In Colab\"/></a>"
      ]
    },
    {
      "cell_type": "code",
      "source": [
        "\"\"\"\n",
        "You are given a number “N” and string ‘S’ of digits denoting a positive integer [ N < sizeof(S) ] , build the lowest number possible by removing N digits from S, without changing their order.\n",
        "\n",
        "Input Description:\n",
        "The first line contains a positive integer N. The second line contains a string of digits denoting a positive integer S.\n",
        "\n",
        "Output Description:\n",
        "Print the lowest number that is formed\n",
        "\n",
        "Sample Input :\n",
        "4\n",
        "1234567\n",
        "Sample Output :\n",
        "123\n",
        "\n",
        "\"\"\""
      ],
      "metadata": {
        "id": "zMSr5OQQ7R9v"
      },
      "execution_count": null,
      "outputs": []
    },
    {
      "cell_type": "code",
      "source": [
        "a=int(input())\n",
        "b=input()\n",
        "\n",
        "print(b[:-a])"
      ],
      "metadata": {
        "colab": {
          "base_uri": "https://localhost:8080/"
        },
        "id": "ElOVGEJF7SA3",
        "outputId": "6e1c4994-4bbb-4df4-ed17-f0573a2c7496"
      },
      "execution_count": 68,
      "outputs": [
        {
          "output_type": "stream",
          "name": "stdout",
          "text": [
            "4\n",
            "1234567\n",
            "123\n"
          ]
        }
      ]
    }
  ]
}