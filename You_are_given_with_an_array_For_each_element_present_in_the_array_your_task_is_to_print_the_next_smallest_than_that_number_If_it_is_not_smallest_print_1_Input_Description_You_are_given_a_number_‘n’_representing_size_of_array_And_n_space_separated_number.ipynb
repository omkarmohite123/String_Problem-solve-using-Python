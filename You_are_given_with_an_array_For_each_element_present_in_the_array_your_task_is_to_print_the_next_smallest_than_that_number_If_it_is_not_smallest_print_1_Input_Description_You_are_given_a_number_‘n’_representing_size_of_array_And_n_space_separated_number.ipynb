{
  "nbformat": 4,
  "nbformat_minor": 0,
  "metadata": {
    "colab": {
      "provenance": [],
      "authorship_tag": "ABX9TyN0KkyNkRm8ZA4MCscrBUcQ",
      "include_colab_link": true
    },
    "kernelspec": {
      "name": "python3",
      "display_name": "Python 3"
    },
    "language_info": {
      "name": "python"
    }
  },
  "cells": [
    {
      "cell_type": "markdown",
      "metadata": {
        "id": "view-in-github",
        "colab_type": "text"
      },
      "source": [
        "<a href=\"https://colab.research.google.com/github/omkarmohite123/String_Problem-solve-using-Python/blob/main/You_are_given_with_an_array_For_each_element_present_in_the_array_your_task_is_to_print_the_next_smallest_than_that_number_If_it_is_not_smallest_print_1_Input_Description_You_are_given_a_number_%E2%80%98n%E2%80%99_representing_size_of_array_And_n_space_separated_number.ipynb\" target=\"_parent\"><img src=\"https://colab.research.google.com/assets/colab-badge.svg\" alt=\"Open In Colab\"/></a>"
      ]
    },
    {
      "cell_type": "code",
      "source": [
        "#6\n",
        "a=int(input())\n",
        "c=[]\n",
        "arr=list(map(int,input().split()))\n",
        "for i in range(a):\n",
        "  value=0\n",
        "  for j in range(i,a):\n",
        "    if arr[i] > arr[j]:\n",
        "      value =arr[j]\n",
        "      break\n",
        "    else:\n",
        "      value = -1\n",
        "  c.append(value)\n",
        "print(*c)"
      ],
      "metadata": {
        "colab": {
          "base_uri": "https://localhost:8080/"
        },
        "id": "7JVvikS1Dj2K",
        "outputId": "341579fe-a6b8-4962-e9a3-b0457d0ead60"
      },
      "execution_count": 6,
      "outputs": [
        {
          "output_type": "stream",
          "name": "stdout",
          "text": [
            "7\n",
            "10 7 9 3 2 1 15\n",
            "7 3 3 2 1 -1 -1\n"
          ]
        }
      ]
    }
  ]
}