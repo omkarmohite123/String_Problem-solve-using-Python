{
  "nbformat": 4,
  "nbformat_minor": 0,
  "metadata": {
    "colab": {
      "provenance": [],
      "authorship_tag": "ABX9TyPbsbYR8ohiY+fLyg/CxTwz",
      "include_colab_link": true
    },
    "kernelspec": {
      "name": "python3",
      "display_name": "Python 3"
    },
    "language_info": {
      "name": "python"
    }
  },
  "cells": [
    {
      "cell_type": "markdown",
      "metadata": {
        "id": "view-in-github",
        "colab_type": "text"
      },
      "source": [
        "<a href=\"https://colab.research.google.com/github/omkarmohite123/String_Problem-solve-using-Python/blob/main/You_are_given_with_an_circular_array_Your_task_is_calculate_the_difference_between_two_consecutive_number_And_if_difference_is_greater_than_%E2%80%98k%E2%80%99%2C_print_1_else_print_0_Input_Description_You_are_given_two_numbers_%E2%80%98n%E2%80%99%2C_%E2%80%99m%E2%80%99_Next_line_contains_n_space_separate.ipynb\" target=\"_parent\"><img src=\"https://colab.research.google.com/assets/colab-badge.svg\" alt=\"Open In Colab\"/></a>"
      ]
    },
    {
      "cell_type": "code",
      "source": [
        "n=input()\n",
        "n=n.split(\" \")\n",
        "m=input()\n",
        "m=m.split(\" \")\n",
        "n1=int(n[0])\n",
        "k=int(n[1])\n",
        "nw=[]\n",
        "new=[]\n",
        "for x,y in zip(m[0::],m[1::]):\n",
        "    x=int(x)\n",
        "    y=int(y)\n",
        "    nw.append(abs(y-x))\n",
        "a,b=m[0],m[-1]\n",
        "c=int(a)-int(b)\n",
        "nw.append(abs(c))\n",
        "for i in nw:\n",
        "    if k>=i:\n",
        "     new.append(0)\n",
        "    else :\n",
        "       new.append(1)\n",
        "print(*new)"
      ],
      "metadata": {
        "colab": {
          "base_uri": "https://localhost:8080/"
        },
        "id": "ioXENqvxBml1",
        "outputId": "aa8ceca1-3ab8-4e16-9285-370a87d7d894"
      },
      "execution_count": 1,
      "outputs": [
        {
          "output_type": "stream",
          "name": "stdout",
          "text": [
            "5 15\n",
            "50 65 85 98 35\n",
            "0 1 0 1 0\n"
          ]
        }
      ]
    }
  ]
}