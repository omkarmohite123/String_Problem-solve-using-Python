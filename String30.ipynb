{
  "nbformat": 4,
  "nbformat_minor": 0,
  "metadata": {
    "colab": {
      "provenance": [],
      "authorship_tag": "ABX9TyOvlgn2JRlwwv4o0JGbuOrE",
      "include_colab_link": true
    },
    "kernelspec": {
      "name": "python3",
      "display_name": "Python 3"
    },
    "language_info": {
      "name": "python"
    }
  },
  "cells": [
    {
      "cell_type": "markdown",
      "metadata": {
        "id": "view-in-github",
        "colab_type": "text"
      },
      "source": [
        "<a href=\"https://colab.research.google.com/github/omkarmohite123/String_Problem-solve-using-Python/blob/main/String30.ipynb\" target=\"_parent\"><img src=\"https://colab.research.google.com/assets/colab-badge.svg\" alt=\"Open In Colab\"/></a>"
      ]
    },
    {
      "cell_type": "code",
      "source": [
        "\"\"\"\n",
        "Do problem 3 with cost of insertion, deletion as the position of the inserted alphabet in A-Z and substitution as the difference in their positions in A-Z.\n",
        "Input Size : 1<=N<=1000\n",
        "Example:\n",
        "INPUT\n",
        "arc bug\n",
        "OUTPUT\n",
        "8\n",
        "\n",
        "\n",
        "\"\"\""
      ],
      "metadata": {
        "id": "9n3X7uDc1M-2"
      },
      "execution_count": null,
      "outputs": []
    },
    {
      "cell_type": "code",
      "source": [
        "a,b=list(map(str,input().split()))\n",
        "k=list(a)\n",
        "l=list(b)\n",
        "n=0\n",
        "m=0\n",
        "for i in k:\n",
        "  n+=ord(i)\n",
        "for i in l:\n",
        "  m+=ord(i)\n",
        "s=abs(n-m)\n",
        "print(s)"
      ],
      "metadata": {
        "colab": {
          "base_uri": "https://localhost:8080/"
        },
        "id": "U5jnDWLM1NP7",
        "outputId": "b8206313-1dc6-400d-86b5-5394acc4eacc"
      },
      "execution_count": 4,
      "outputs": [
        {
          "output_type": "stream",
          "name": "stdout",
          "text": [
            "arc bug\n",
            "8\n"
          ]
        }
      ]
    },
    {
      "cell_type": "code",
      "source": [],
      "metadata": {
        "id": "NLvGSObCz7mG"
      },
      "execution_count": null,
      "outputs": []
    }
  ]
}