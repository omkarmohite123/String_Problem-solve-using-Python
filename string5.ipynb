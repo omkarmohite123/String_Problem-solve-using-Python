{
  "nbformat": 4,
  "nbformat_minor": 0,
  "metadata": {
    "colab": {
      "provenance": [],
      "authorship_tag": "ABX9TyOMOGVJYI50ogPFSMETXvjk",
      "include_colab_link": true
    },
    "kernelspec": {
      "name": "python3",
      "display_name": "Python 3"
    },
    "language_info": {
      "name": "python"
    }
  },
  "cells": [
    {
      "cell_type": "markdown",
      "metadata": {
        "id": "view-in-github",
        "colab_type": "text"
      },
      "source": [
        "<a href=\"https://colab.research.google.com/github/omkarmohite123/String_Problem-solve-using-Python/blob/main/string5.ipynb\" target=\"_parent\"><img src=\"https://colab.research.google.com/assets/colab-badge.svg\" alt=\"Open In Colab\"/></a>"
      ]
    },
    {
      "cell_type": "code",
      "source": [
        "\"\"\"\n",
        "Given a string S consisting of lowercase latin letters, arrange all its letters in lexographical order using Counting Sort.\n",
        "\n",
        "Input Description:\n",
        "First Line contains positive integer N denoting the length of string.The second line of input contains the string S.\n",
        "\n",
        "Output Description:\n",
        "Print the sorted string.\n",
        "\n",
        "Sample Input :\n",
        "5\n",
        "edsab\n",
        "Sample Output :\n",
        "abdes\n",
        "\n",
        "\"\"\""
      ],
      "metadata": {
        "id": "tH0EsuAN5G9K"
      },
      "execution_count": null,
      "outputs": []
    },
    {
      "cell_type": "code",
      "source": [
        "\n",
        "a=int(input())\n",
        "b=input()\n",
        "c=list(b)\n",
        "k=sorted(c,reverse=False)\n",
        "n=\"\".join(k)\n",
        "print(n)"
      ],
      "metadata": {
        "colab": {
          "base_uri": "https://localhost:8080/"
        },
        "id": "fFQNU8cB5HJB",
        "outputId": "30b09ac9-c399-4a5f-cffe-e580d22faf80"
      },
      "execution_count": 62,
      "outputs": [
        {
          "output_type": "stream",
          "name": "stdout",
          "text": [
            "5\n",
            "edsab\n",
            "abdes\n"
          ]
        }
      ]
    }
  ]
}