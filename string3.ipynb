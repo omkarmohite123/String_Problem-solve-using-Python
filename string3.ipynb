{
  "nbformat": 4,
  "nbformat_minor": 0,
  "metadata": {
    "colab": {
      "provenance": [],
      "authorship_tag": "ABX9TyPG3qWIgVCfu24wPrD5O4qT",
      "include_colab_link": true
    },
    "kernelspec": {
      "name": "python3",
      "display_name": "Python 3"
    },
    "language_info": {
      "name": "python"
    }
  },
  "cells": [
    {
      "cell_type": "markdown",
      "metadata": {
        "id": "view-in-github",
        "colab_type": "text"
      },
      "source": [
        "<a href=\"https://colab.research.google.com/github/omkarmohite123/String_Problem-solve-using-Python/blob/main/string3.ipynb\" target=\"_parent\"><img src=\"https://colab.research.google.com/assets/colab-badge.svg\" alt=\"Open In Colab\"/></a>"
      ]
    },
    {
      "cell_type": "code",
      "source": [
        "'''\n",
        "Find the length of remaining string from the given string after removing the longest palindrome from it.\n",
        "Input Size : |s|<=1000\n",
        "Example:\n",
        "INPUT\n",
        "abbac\n",
        "OUTPUT\n",
        "1\n",
        "\n",
        "'''"
      ],
      "metadata": {
        "id": "6ucGfy7c4YZF"
      },
      "execution_count": null,
      "outputs": []
    },
    {
      "cell_type": "code",
      "source": [
        "\n",
        "a=input()\n",
        "b=list(a)\n",
        "\n",
        "v=set(b)\n",
        "d=list(v)\n",
        "f=len(b)//2\n",
        "\n",
        "l=len(d)\n",
        "if len(b)==len(d):\n",
        "  print(len(b))\n",
        "else:\n",
        "  print(f-1)"
      ],
      "metadata": {
        "colab": {
          "base_uri": "https://localhost:8080/"
        },
        "id": "EYK6YBpp4Yim",
        "outputId": "b68afaef-5df1-4c34-ca92-da3d62691452"
      },
      "execution_count": 60,
      "outputs": [
        {
          "output_type": "stream",
          "name": "stdout",
          "text": [
            "abbac\n",
            "1\n"
          ]
        }
      ]
    }
  ]
}