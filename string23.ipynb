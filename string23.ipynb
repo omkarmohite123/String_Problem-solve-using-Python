{
  "nbformat": 4,
  "nbformat_minor": 0,
  "metadata": {
    "colab": {
      "provenance": [],
      "authorship_tag": "ABX9TyNFgfpVgvZYyz5rDWvRTqHO",
      "include_colab_link": true
    },
    "kernelspec": {
      "name": "python3",
      "display_name": "Python 3"
    },
    "language_info": {
      "name": "python"
    }
  },
  "cells": [
    {
      "cell_type": "markdown",
      "metadata": {
        "id": "view-in-github",
        "colab_type": "text"
      },
      "source": [
        "<a href=\"https://colab.research.google.com/github/omkarmohite123/String_Problem-solve-using-Python/blob/main/string23.ipynb\" target=\"_parent\"><img src=\"https://colab.research.google.com/assets/colab-badge.svg\" alt=\"Open In Colab\"/></a>"
      ]
    },
    {
      "cell_type": "code",
      "source": [
        "\n",
        "\n",
        "\n",
        "everything = ['', 'one', 'two', 'three', 'four', 'five', 'six', 'seven', 'eight', 'nine', 'ten', 'eleven', 'twelve', 'thirteen',\n",
        "     'fourteen', 'fifteen', 'sixteen', 'seventeen', 'eighteen', 'nineteen', ]\n",
        "\n",
        "tees = ['', 'ten', 'twenty ', 'thirty ', 'forty', 'fifty ',\n",
        "     'sixty ', 'seventy ', 'eighty ', 'ninety']\n",
        "\n",
        "TrueIntegerBool = False\n",
        "\n",
        "\n",
        "\n",
        "def trueInteger():\n",
        "    if number != 0 and number < 1000:\n",
        "        #------------------for two digits numbers-------------------\n",
        "\n",
        "        if number < 100:\n",
        "            # for the two digits number that ends with zero (Eg: 10. 30 , etc.)\n",
        "            if number % 10 == 0:\n",
        "                firstDigit = number // 10\n",
        "                resultNumber = tees[firstDigit]\n",
        "                print(number, resultNumber)\n",
        "            # for two digits numbers that don't end with zero (78, 89, etc.)\n",
        "            elif number % 10 != 0:\n",
        "                if number < 20:\n",
        "                    resultantNumber = everything[number]\n",
        "                    print(number, resultantNumber)\n",
        "                else:\n",
        "                    firstDigit = number //10\n",
        "                    resultNumberTens = tees[firstDigit]\n",
        "                    secondDigit = number % 10\n",
        "                    resultNumberOnes = everything[secondDigit]\n",
        "                    print(number, resultNumberTens + resultNumberOnes)\n",
        "\n",
        "        #-----------For three digit numbers -------------\n",
        "        elif number >= 100 and number < 1000:\n",
        "            if number % 10 == 0:\n",
        "                # for the three digits number that ends with two zeros (Eg: 100, 200, etc.)\n",
        "                if number % 100 == 0:\n",
        "                    firstDigit = number // 100\n",
        "                    resultNumberHundreds = everything[firstDigit]\n",
        "                    print(number, resultNumberHundreds + \" hundred \")\n",
        "                # for the three digits number that ends with one zero ( Eg: 120, 390, etc.)\n",
        "                else:\n",
        "                    firstDigit = number // 100\n",
        "                    resultNumberHundreds = everything[firstDigit]\n",
        "                    fromTens = number % 100\n",
        "                    secondDigit = fromTens // 10\n",
        "                    resultNumberTens = tees[secondDigit]\n",
        "                    print(number, resultNumberHundreds + \" hundred and \" + resultNumberTens)\n",
        "\n",
        "            # For three digits numbers that has no zeroes\n",
        "            elif number % 10 != 0:\n",
        "                firstDigit = number // 100\n",
        "                resultNumberHundreds = everything[firstDigit]\n",
        "                lastTwoNumbers = number % 100\n",
        "\n",
        "                # For the last two digit that lies between one and twenty\n",
        "                if lastTwoNumbers < 20:\n",
        "                    resultantLast = everything[lastTwoNumbers]\n",
        "                    print(number, resultNumberHundreds+ \" hundred and \" + resultantLast )\n",
        "\n",
        "                # For the last two digit that is greater than 20 and less than 99 and not ends with single zero\n",
        "                elif lastTwoNumbers > 20:\n",
        "                    secondNumber = lastTwoNumbers // 10\n",
        "                    resultNumberTens = tees[secondNumber]\n",
        "                    thirdNumber = lastTwoNumbers % 10\n",
        "                    resultNumberOnes = everything[thirdNumber]\n",
        "                    print(number, resultNumberHundreds + \" hundred and \" + resultNumberTens + resultNumberOnes)\n",
        "\n",
        "    else:\n",
        "        print(\"Please enter the number that is non zero and less than thousand \\n Try again!\")\n",
        "\n",
        "\n",
        "while not TrueIntegerBool:\n",
        "    try:\n",
        "        number = int(input(\"enter the number: \"))\n",
        "        TrueIntegerBool = True\n",
        "        trueInteger()\n",
        "\n",
        "\n",
        "    except:\n",
        "        print(\"Numbers other than integers are strictly prohibited\")\n",
        "        "
      ],
      "metadata": {
        "colab": {
          "base_uri": "https://localhost:8080/"
        },
        "id": "X58my20Okuad",
        "outputId": "ade9392e-f15a-41de-a90a-b61d3b2a6909"
      },
      "execution_count": null,
      "outputs": [
        {
          "output_type": "stream",
          "name": "stdout",
          "text": [
            "enter the number: 435\n",
            "435 four hundred and thirty five\n"
          ]
        }
      ]
    },
    {
      "cell_type": "code",
      "source": [],
      "metadata": {
        "id": "UUx7FptXx-hf"
      },
      "execution_count": null,
      "outputs": []
    },
    {
      "cell_type": "code",
      "source": [],
      "metadata": {
        "id": "TpjPeyHUynqM"
      },
      "execution_count": null,
      "outputs": []
    }
  ]
}