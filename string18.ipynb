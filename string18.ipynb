{
  "nbformat": 4,
  "nbformat_minor": 0,
  "metadata": {
    "colab": {
      "provenance": [],
      "authorship_tag": "ABX9TyPWF7+Wbd9RjFFfIkRC+Yap",
      "include_colab_link": true
    },
    "kernelspec": {
      "name": "python3",
      "display_name": "Python 3"
    },
    "language_info": {
      "name": "python"
    }
  },
  "cells": [
    {
      "cell_type": "markdown",
      "metadata": {
        "id": "view-in-github",
        "colab_type": "text"
      },
      "source": [
        "<a href=\"https://colab.research.google.com/github/omkarmohite123/String_Problem-solve-using-Python/blob/main/string18.ipynb\" target=\"_parent\"><img src=\"https://colab.research.google.com/assets/colab-badge.svg\" alt=\"Open In Colab\"/></a>"
      ]
    },
    {
      "cell_type": "code",
      "source": [
        "\"\"\"\n",
        "Aditi is fond of strings.she heard about Lcs for two strings.Now she wants to try this for 3 strings.But in between she got confused now, your task is to help her.You are given exactly 3 strings.\n",
        "Develop an algorithm which to find lcs for 3 strings.\n",
        "\n",
        "Input Description:\n",
        "You are given 3 strings.\n",
        "\n",
        "Output Description:\n",
        "Print the lcs of 3 string or print -1 if there is no lcs between 3 strings\n",
        "\n",
        "Sample Input :\n",
        "Guvi yuvi yuvirat\n",
        "Sample Output :\n",
        "uvi\n",
        "\n",
        "\"\"\""
      ],
      "metadata": {
        "id": "Ibpnu_yaEeSB"
      },
      "execution_count": null,
      "outputs": []
    },
    {
      "cell_type": "code",
      "source": [
        "\n",
        "a,b,c=list(map(str,input().split()))\n",
        "s=[]\n",
        "for i in a:\n",
        "  if i in b:\n",
        "    s.append(i)\n",
        "\n",
        "k=[]\n",
        "for i in b:\n",
        "  if i in c:\n",
        "    k.append(i)\n",
        "\n",
        "n=[]\n",
        "for i in s:\n",
        "  if i in k:\n",
        "    n.append(i)\n",
        "d=\"\".join(n)\n",
        "if len(a)>len(b):\n",
        "  print(\"-1\")\n",
        "else:\n",
        "  print(d)"
      ],
      "metadata": {
        "id": "0ltRRTD_EeVV",
        "colab": {
          "base_uri": "https://localhost:8080/"
        },
        "outputId": "1b9b2951-506a-4466-c737-a348eda48540"
      },
      "execution_count": 2,
      "outputs": [
        {
          "output_type": "stream",
          "name": "stdout",
          "text": [
            "Guvi yuvi yuvirat\n",
            "uvi\n"
          ]
        }
      ]
    }
  ]
}