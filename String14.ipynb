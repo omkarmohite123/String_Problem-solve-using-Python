{
  "nbformat": 4,
  "nbformat_minor": 0,
  "metadata": {
    "colab": {
      "provenance": [],
      "authorship_tag": "ABX9TyPIHKx1oJa3zBEEYEMV0+va",
      "include_colab_link": true
    },
    "kernelspec": {
      "name": "python3",
      "display_name": "Python 3"
    },
    "language_info": {
      "name": "python"
    }
  },
  "cells": [
    {
      "cell_type": "markdown",
      "metadata": {
        "id": "view-in-github",
        "colab_type": "text"
      },
      "source": [
        "<a href=\"https://colab.research.google.com/github/omkarmohite123/String_Problem-solve-using-Python/blob/main/String14.ipynb\" target=\"_parent\"><img src=\"https://colab.research.google.com/assets/colab-badge.svg\" alt=\"Open In Colab\"/></a>"
      ]
    },
    {
      "cell_type": "code",
      "source": [
        "\"\"\"\n",
        "Given a string S, check whether it contains only the characters 'a' and 'b' or only 'a' or only 'b'\n",
        "Input Size : |S| <= 100000\n",
        "Sample Testcase :\n",
        "INPUT\n",
        "aabbaaab\n",
        "OUTPUT\n",
        "yes\n",
        "\"\"\""
      ],
      "metadata": {
        "id": "HUzeHh_8eBva"
      },
      "execution_count": null,
      "outputs": []
    },
    {
      "cell_type": "code",
      "source": [
        "import re\n",
        "string=input()\n",
        "if re.search('[^ab]', string):\n",
        "    print('no')\n",
        "else:\n",
        "  print(\"yes\")"
      ],
      "metadata": {
        "colab": {
          "base_uri": "https://localhost:8080/"
        },
        "id": "XyhovlYEeByY",
        "outputId": "4bafa399-8898-445a-aa96-a4051d30eb1e"
      },
      "execution_count": 1,
      "outputs": [
        {
          "output_type": "stream",
          "name": "stdout",
          "text": [
            "aabbaaab\n",
            "yes\n"
          ]
        }
      ]
    }
  ]
}